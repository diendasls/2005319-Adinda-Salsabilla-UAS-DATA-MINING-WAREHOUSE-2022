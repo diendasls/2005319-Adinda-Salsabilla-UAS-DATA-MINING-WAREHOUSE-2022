{
 "cells": [
  {
   "cell_type": "markdown",
   "id": "182fc47b",
   "metadata": {},
   "source": [
    "## Ujian Akhir Semester Data Mining & Warehouse 2022\n",
    "\n",
    "#### Nama            : Adinda Salsabilla\n",
    "#### NIM               : 2005319\n",
    "#### Kelas             : C2 - 2020\n",
    "#### Hari/Tanggal  : Selasa / 3 Januari 2023"
   ]
  },
  {
   "cell_type": "markdown",
   "id": "d5fcc50e",
   "metadata": {},
   "source": [
    "## Sumber dataset\n",
    "\n",
    "Data yang digunakan diperoleh dari : https://drive.google.com/file/d/1vv7YjmjVYdlYrm5tmsLbckNQNXi5afMn/view?usp=share_link"
   ]
  },
  {
   "cell_type": "markdown",
   "id": "000e086c",
   "metadata": {},
   "source": [
    "## Task\n",
    "\n",
    "IPM (Indeks Pembangunan Manusia) adalah ukuran kualitas sumber daya manusia. PMI memiliki tiga dimensi: \n",
    "1. umur panjang dan hidup sehat (a long and healthy life)\n",
    "2. pengetahuan (knowledge) \n",
    "3. standar hidup layak (decent standard of living).  \n",
    "\n",
    "PMI dihitung menggunakan data harapan hidup, rata-rata lama sekolah, pengeluaran per kapita.\n",
    "\n",
    "Asumsikan kategorisasi PMI adalah sebagai berikut:  \n",
    "- < 60          : sangat rendah; \n",
    "- 60 < pmi < 70 : sedang;\n",
    "- 70 < pmi < 80 : tinggi;\n",
    "- dan > 80      : sangat tinggi.\n",
    "\n",
    "Prediksi tingkat PMI per provinsi tanpa menggunakan data yang dapat digunakan untuk menghitung langsung (data proksi). Model ini bermanfaat untuk pengecekan silang dan dapat digunakan jika data yang diperlukan tidak tersedia. \n"
   ]
  },
  {
   "cell_type": "markdown",
   "id": "bc6de349",
   "metadata": {},
   "source": [
    "## Penjelasan Fitur\n",
    "- jumlah_naik_haji: jumlah jemaah haji yang diberangkatkan ke Tanah Suci Mekah Menurut Provinsi (orang)\n",
    "- kepadatan_penduduk: kepadatan penduduk (jiwa / km persegi)\n",
    "- ketidak_cukupan_pangan_prov: Prevalensi ketidakcukupan konsumsi pangan\n",
    "- melek_huruf_diatas15: angka melek huruf penduduk berumur +15 tahun menurut provinsi (persen). Melek huruf =  dapat membaca dan menulis\n",
    "- persen_anak_dengan_akte_lahir: persentase anak yang memiliki akta kelahiran menurut provinsi(persen)\n",
    "- persen_asupan_kalori_bawah_1400: proporsi penduduk dengan asupan kalori minimum di bawah 1400 Kkal/kapita/hari menurut provinsi (persen)\n",
    "- persen_penduduk_trampil_tik: Proporsi Remaja Dan Dewasa Usia 15-59 Tahun Dengan Keterampilan Teknologi Informasi Dan Komputer (TIK) Menurut Provinsi (Persen)\n",
    "- persen_perempuan_kerja_manajerial: persentase perempuan yang bekerja menduduki jabatan manajerial per provinsi\n",
    "- persen_rumah_dgn_fasilitas_cuci_tangan_sabun: Proporsi Rumah Tangga Yang Memiliki Fasilitas Cuci Tangan Dengan Sabun Dan Air Menurut Provinsi (Persen)\n",
    "- persen_rumah_menyewa: proporsi rumah tangga dengan status kepemilikan rumah sewa/kontrak menurut provinsi\n",
    "- persen_unmeet_need_pelayanan_kesehatan:Unmet Need Pelayanan Kesehatan Menurut Provinsi (Persen)\n",
    "- kategori_pmi: kategori PMI tiap provinsi dan tahun  \n",
    "- proporsi_hidup_dibawah_50_persen_median_pendapatan: proporsi penduduk yang hidup di bawah 50 persen dari median pendapatan, menurut provinsi\n",
    "- proporsi_kerja_informal_nonpertanian: Proporsi Lapangan Kerja Informal Sektor Non-Pertanian Menurut Provinsi\n",
    "- proporsi_perempuan_18_24_nikah_prov: Proporsi Perempuan Umur 20-24 Tahun Yang Berstatus Kawin Atau Berstatus Hidup Bersama Sebelum Umur 18 Tahun Menurut Provinsi (Persen)\n",
    "- proporsi_rt_akses_layanan_dasar: Proporsi rumah tangga dengan akses terhadap pelayanan dasar menurut provinsi (Persen)\n",
    "\n",
    "\n",
    "\n",
    "\n",
    "\n",
    "\n"
   ]
  },
  {
   "cell_type": "markdown",
   "id": "39b1ef33",
   "metadata": {},
   "source": [
    "## Praproses Dataset"
   ]
  },
  {
   "cell_type": "markdown",
   "id": "cc1eb1cc",
   "metadata": {},
   "source": [
    "### Import Library"
   ]
  },
  {
   "cell_type": "code",
   "execution_count": 1,
   "id": "7794f86f",
   "metadata": {},
   "outputs": [],
   "source": [
    "%matplotlib inline\n",
    "import numpy as np                  \n",
    "import pandas as pd                 \n",
    "import matplotlib.pyplot as plt     \n",
    "import seaborn as sns\n",
    "import joblib\n",
    "from datetime import datetime, date"
   ]
  },
  {
   "cell_type": "markdown",
   "id": "d00b844c",
   "metadata": {},
   "source": [
    "### Load Dataset"
   ]
  },
  {
   "cell_type": "code",
   "execution_count": 2,
   "id": "ad13bd6c",
   "metadata": {},
   "outputs": [],
   "source": [
    "#load semua dataset \n",
    "df_pmi = pd.read_csv(\"D:\\\\datmin\\\\pmi.csv\", sep=\";\", encoding=\"utf-8\")\n",
    "df_1   = pd.read_csv(\"D:\\\\datmin\\\\jumlah_naik_haji.csv\", sep=\";\", encoding=\"utf-8\")\n",
    "df_2   = pd.read_csv(\"D:\\\\datmin\\\\kepadatan_penduduk.csv\", sep=\";\", encoding=\"utf-8\")\n",
    "df_3   = pd.read_csv(\"D:\\\\datmin\\\\ketidak_cukupan_pangan_prov.csv\", sep=\";\", encoding=\"utf-8\")\n",
    "df_4   = pd.read_csv(\"D:\\\\datmin\\\\melek_huruf_diatas15.csv\", sep=\";\", encoding=\"utf-8\")\n",
    "df_5   = pd.read_csv(\"D:\\\\datmin\\\\persen_anak_dengan_akte_lahir.csv\", sep=\";\", encoding=\"utf-8\")\n",
    "df_6   = pd.read_csv(\"D:\\\\datmin\\\\persen_asupan_kalori_bawah_1400.csv\", sep=\";\", encoding=\"utf-8\")\n",
    "df_7   = pd.read_csv(\"D:\\\\datmin\\\\persen_penduduk_trampil_tik.csv\", sep=\";\", encoding=\"utf-8\")\n",
    "df_8   = pd.read_csv(\"D:\\\\datmin\\\\persen_perempuan_kerja_manajerial.csv\", sep=\";\", encoding=\"utf-8\")\n",
    "df_9   = pd.read_csv(\"D:\\\\datmin\\\\persen_rumah_dgn_fasilitas_cuci_tangan_sabun.csv\", sep=\";\", encoding=\"utf-8\")\n",
    "df_10  = pd.read_csv(\"D:\\\\datmin\\\\persen_rumah_menyewa.csv\", sep=\";\", encoding=\"utf-8\")\n",
    "df_11  = pd.read_csv(\"D:\\\\datmin\\\\persen_unmet_need_pelayanan_kesehatan.csv\", sep=\";\", encoding=\"utf-8\")\n",
    "df_12  = pd.read_csv(\"D:\\\\datmin\\\\proporsi_hidup_dibawah_50_persen_median_pendapatan.csv\", sep=\";\", encoding=\"utf-8\")\n",
    "df_13  = pd.read_csv(\"D:\\\\datmin\\\\proporsi_kerja_informal_nonpertanian.csv\", sep=\";\", encoding=\"utf-8\")\n",
    "df_14  = pd.read_csv(\"D:\\\\datmin\\\\proporsi_perempuan_18_24_nikah_prov.csv\", sep=\";\", encoding=\"utf-8\")\n",
    "df_15  = pd.read_csv(\"D:\\\\datmin\\\\proporsi_rt_akses_layanan_dasar.csv\", sep=\";\", encoding=\"utf-8\")\n"
   ]
  },
  {
   "cell_type": "code",
   "execution_count": 3,
   "id": "2102167a",
   "metadata": {},
   "outputs": [
    {
     "name": "stdout",
     "output_type": "stream",
     "text": [
      "<class 'pandas.core.frame.DataFrame'>\n",
      "RangeIndex: 442 entries, 0 to 441\n",
      "Data columns (total 3 columns):\n",
      " #   Column        Non-Null Count  Dtype \n",
      "---  ------        --------------  ----- \n",
      " 0   prov          442 non-null    object\n",
      " 1   tahun         442 non-null    int64 \n",
      " 2   kategori_pmi  442 non-null    object\n",
      "dtypes: int64(1), object(2)\n",
      "memory usage: 10.5+ KB\n"
     ]
    }
   ],
   "source": [
    "#menampilkan dataframe PMI (atribut, jumlah non null, dan tipe)\n",
    "df_pmi.info()"
   ]
  },
  {
   "cell_type": "code",
   "execution_count": 4,
   "id": "4bbfaffb",
   "metadata": {},
   "outputs": [
    {
     "data": {
      "text/plain": [
       "prov            0\n",
       "tahun           0\n",
       "kategori_pmi    0\n",
       "dtype: int64"
      ]
     },
     "execution_count": 4,
     "metadata": {},
     "output_type": "execute_result"
    }
   ],
   "source": [
    "#melihat apakah terdapat value null dalam suatu atribut\n",
    "df_pmi.isnull().sum()"
   ]
  },
  {
   "cell_type": "code",
   "execution_count": 5,
   "id": "0990b7ee",
   "metadata": {},
   "outputs": [
    {
     "name": "stdout",
     "output_type": "stream",
     "text": [
      "<class 'pandas.core.frame.DataFrame'>\n",
      "Int64Index: 442 entries, 0 to 441\n",
      "Data columns (total 18 columns):\n",
      " #   Column                                              Non-Null Count  Dtype  \n",
      "---  ------                                              --------------  -----  \n",
      " 0   prov                                                442 non-null    object \n",
      " 1   tahun                                               442 non-null    int64  \n",
      " 2   kategori_pmi                                        442 non-null    object \n",
      " 3   jumlah_naik_haji                                    231 non-null    float64\n",
      " 4   kepadatan_penduduk                                  272 non-null    object \n",
      " 5   pct_tdk_cukup_pangan                                102 non-null    float64\n",
      " 6   melek_huruf_diatas15                                306 non-null    object \n",
      " 7   persen_anak_dengan_akte_lahir                       238 non-null    float64\n",
      " 8   persen_asupan_kalori_bawah_1400                     170 non-null    float64\n",
      " 9   persen_penduduk_trampil_tik                         170 non-null    object \n",
      " 10  pct_perempuan_managerial                            238 non-null    float64\n",
      " 11  persen_rumah_dgn_fasilitas_cuci_tangan_sabun        204 non-null    object \n",
      " 12  persen_rumah_menyewa                                238 non-null    float64\n",
      " 13  persen_unmet_need_pelayanan_kesehatan               238 non-null    float64\n",
      " 14  proporsi_hidup_dibawah_50_persen_median_pendapatan  136 non-null    float64\n",
      " 15  proporsi_kerja_informal_nonpertanian                136 non-null    float64\n",
      " 16  pct_perempuan_nikah                                 136 non-null    float64\n",
      " 17  proporsi_rt_akses_layanan_dasar                     102 non-null    float64\n",
      "dtypes: float64(11), int64(1), object(6)\n",
      "memory usage: 65.6+ KB\n"
     ]
    }
   ],
   "source": [
    "#MERGE SEMUA DATASET DENGAN pada prov dan tahun\n",
    "df_merged_pmi_1 = pd.merge(df_pmi, df_1, how='left', on=['prov', 'tahun'])\n",
    "\n",
    "df_merged_2_3 = pd.merge(df_2, df_3, how='left', on=['prov', 'tahun'])\n",
    "\n",
    "df_merged_4_5 = pd.merge(df_4, df_5, how='left', on=['prov', 'tahun'])\n",
    "\n",
    "df_merged_6_7 = pd.merge(df_6, df_7, how='left', on=['prov', 'tahun'])\n",
    "\n",
    "df_merged_8_9 = pd.merge(df_8, df_9, how='left', on=['prov', 'tahun'])\n",
    "\n",
    "df_merged_10_11 = pd.merge(df_10, df_11, how='left', on=['prov', 'tahun'])\n",
    "\n",
    "df_merged_12_13 = pd.merge(df_12, df_13, how='left', on=['prov', 'tahun'])\n",
    "\n",
    "df_merged_14_15 = pd.merge(df_14, df_15, how='left', on=['prov', 'tahun'])\n",
    "\n",
    "\n",
    "# merge ke-2\n",
    "\n",
    "df_merged2_1 = pd.merge(df_merged_pmi_1, df_merged_2_3, \n",
    "                        how='left', on=['prov', 'tahun'])\n",
    "\n",
    "df_merged2_2 = pd.merge(df_merged_4_5, df_merged_6_7, \n",
    "                        how='left', on=['prov', 'tahun'])\n",
    "\n",
    "df_merged2_3 = pd.merge(df_merged_8_9, df_merged_10_11, \n",
    "                        how='left', on=['prov', 'tahun'])\n",
    "\n",
    "df_merged2_4 = pd.merge(df_merged_12_13, df_merged_14_15, \n",
    "                        how='left', on=['prov', 'tahun'])\n",
    "\n",
    "\n",
    "# merge ke-3\n",
    "\n",
    "df_merged3_1 = pd.merge(df_merged2_1, df_merged2_2, \n",
    "                        how='left', on=['prov', 'tahun'])\n",
    "\n",
    "df_merged3_2 = pd.merge(df_merged2_3, df_merged2_4, \n",
    "                        how='left', on=['prov', 'tahun'])\n",
    "\n",
    "\n",
    "# merge terakhir\n",
    "\n",
    "df_merged_all = pd.merge(df_merged3_1, df_merged3_2, \n",
    "                        how='left', on=['prov', 'tahun'])\n",
    "\n",
    "df_merged_all.info()\n",
    "\n",
    "\n",
    "# membuat file csv\n",
    "\n",
    "# index=False agar tidak ada tambahkan kolom nomor urut\n",
    "df_merged_all.to_csv(\"D:\\\\datmin\\\\merged\\\\merged_all.csv\",index=False, sep=\";\")"
   ]
  },
  {
   "cell_type": "markdown",
   "id": "47166d4c",
   "metadata": {},
   "source": [
    "Pada tahap ini, dataset yang awalnya terpisah sudah tergabung seluruhnya dengan dilakukan merge pada atribut prov dan tahun. Tetapi, beberapa atribut yang seharusnya dalam tipe data float masih dalam tipe object, sehingga perlu dilakukan perubahan tipe data. Atribut yang tipe datanya diubah ialah\n",
    "- kepadatan_penduduk\n",
    "- melek_huruf_diatas15\n",
    "- persen_penduduk_trampil_tik\n",
    "- persen_rumah_dgn_fasilitas_cuci_tangan_sabun"
   ]
  },
  {
   "cell_type": "code",
   "execution_count": 6,
   "id": "f679d5df",
   "metadata": {},
   "outputs": [],
   "source": [
    "# mengubah tipe data object (string) menjadi float64 pada beberapa atribut\n",
    "# df_merged_all[\"kepadatan_penduduk\"]= df_merged_all[\"kepadatan_penduduk\"].astype(float)\n",
    "\n",
    "# df_merged_all[\"melek_huruf_diatas15\"]= df_merged_all[\"melek_huruf_diatas15\"].astype(float)\n",
    "\n",
    "# df_merged_all[\"persen_penduduk_trampil_tik\"]= df_merged_all[\"persen_penduduk_trampil_tik\"].astype(float)\n",
    "\n",
    "# df_merged_all[\"persen_rumah_dgn_fasilitas_cuci_tangan_sabun\"]= df_merged_all[\"persen_rumah_dgn_fasilitas_cuci_tangan_sabun\"].astype(float)"
   ]
  },
  {
   "cell_type": "code",
   "execution_count": 7,
   "id": "3226bf7d",
   "metadata": {},
   "outputs": [
    {
     "data": {
      "text/plain": [
       "442"
      ]
     },
     "execution_count": 7,
     "metadata": {},
     "output_type": "execute_result"
    }
   ],
   "source": [
    "# total baris setelah merged all\n",
    "len(df_merged_all)"
   ]
  },
  {
   "cell_type": "markdown",
   "id": "afe68c22",
   "metadata": {},
   "source": [
    "Dapat dilihat bahwa jumlah baris dataset yang apabila semuanya telah digabungkan, berjumlah sebanyak 442 baris."
   ]
  },
  {
   "cell_type": "code",
   "execution_count": 8,
   "id": "bca8d157",
   "metadata": {},
   "outputs": [
    {
     "data": {
      "text/plain": [
       "prov                                                    0\n",
       "tahun                                                   0\n",
       "kategori_pmi                                            0\n",
       "jumlah_naik_haji                                      211\n",
       "kepadatan_penduduk                                    170\n",
       "pct_tdk_cukup_pangan                                  340\n",
       "melek_huruf_diatas15                                  136\n",
       "persen_anak_dengan_akte_lahir                         204\n",
       "persen_asupan_kalori_bawah_1400                       272\n",
       "persen_penduduk_trampil_tik                           272\n",
       "pct_perempuan_managerial                              204\n",
       "persen_rumah_dgn_fasilitas_cuci_tangan_sabun          238\n",
       "persen_rumah_menyewa                                  204\n",
       "persen_unmet_need_pelayanan_kesehatan                 204\n",
       "proporsi_hidup_dibawah_50_persen_median_pendapatan    306\n",
       "proporsi_kerja_informal_nonpertanian                  306\n",
       "pct_perempuan_nikah                                   306\n",
       "proporsi_rt_akses_layanan_dasar                       340\n",
       "dtype: int64"
      ]
     },
     "execution_count": 8,
     "metadata": {},
     "output_type": "execute_result"
    }
   ],
   "source": [
    "#melihat apakah terdapat value null dalam suatu atribut\n",
    "df_merged_all.isnull().sum()"
   ]
  },
  {
   "cell_type": "code",
   "execution_count": 9,
   "id": "47bffd6a",
   "metadata": {
    "scrolled": true
   },
   "outputs": [
    {
     "data": {
      "text/plain": [
       "prov                                                  442\n",
       "tahun                                                 442\n",
       "kategori_pmi                                          442\n",
       "jumlah_naik_haji                                      231\n",
       "kepadatan_penduduk                                    272\n",
       "pct_tdk_cukup_pangan                                  102\n",
       "melek_huruf_diatas15                                  306\n",
       "persen_anak_dengan_akte_lahir                         238\n",
       "persen_asupan_kalori_bawah_1400                       170\n",
       "persen_penduduk_trampil_tik                           170\n",
       "pct_perempuan_managerial                              238\n",
       "persen_rumah_dgn_fasilitas_cuci_tangan_sabun          204\n",
       "persen_rumah_menyewa                                  238\n",
       "persen_unmet_need_pelayanan_kesehatan                 238\n",
       "proporsi_hidup_dibawah_50_persen_median_pendapatan    136\n",
       "proporsi_kerja_informal_nonpertanian                  136\n",
       "pct_perempuan_nikah                                   136\n",
       "proporsi_rt_akses_layanan_dasar                       102\n",
       "dtype: int64"
      ]
     },
     "execution_count": 9,
     "metadata": {},
     "output_type": "execute_result"
    }
   ],
   "source": [
    "# menampilkan jumlah isi data per kolom atribut yang ada di df_merged_all\n",
    "df_merged_all.count()"
   ]
  },
  {
   "cell_type": "markdown",
   "id": "34172c38",
   "metadata": {},
   "source": [
    "Dapat dilihat bahwa jumlah data pada semua kolom tidaklah sama, sehingga perlu dilakukan praproses.\n",
    "Praproses yang akan dilakukan ialah mengisi data dengan nilai median dan pengisian 'None', karena perbandingan antara kolom yang seluruh datanya terisi (442) dan kolom yang datanya paling sedikit terisi (102) cukup banyak (yaitu dengan selisih 340), sehingga dapat mempengaruhi dataset. Dengan asumsi bahwa median adalah praproses  yang dapat dilakukan pada atribut dengan tipe data float dan pengisian nilai 'None' pada atribut tipe data string."
   ]
  },
  {
   "cell_type": "code",
   "execution_count": 10,
   "id": "19e63495",
   "metadata": {},
   "outputs": [],
   "source": [
    "# mengisi nilai null pada tiap kolom dengan median \n",
    "df_merged_all['jumlah_naik_haji'].fillna(df_merged_all['jumlah_naik_haji'].median(),inplace=True)\n",
    "df_merged_all['kepadatan_penduduk'].fillna(\"None\", inplace=True)\n",
    "df_merged_all['pct_tdk_cukup_pangan'].fillna(df_merged_all['pct_tdk_cukup_pangan'].median(),inplace=True)\n",
    "\n",
    "df_merged_all['melek_huruf_diatas15'].fillna(\"None\", inplace=True)\n",
    "df_merged_all['persen_anak_dengan_akte_lahir'].fillna(df_merged_all['persen_anak_dengan_akte_lahir'].median(),inplace=True)\n",
    "df_merged_all['persen_asupan_kalori_bawah_1400'].fillna(df_merged_all['persen_asupan_kalori_bawah_1400'].median(),inplace=True)\n",
    "\n",
    "df_merged_all['persen_penduduk_trampil_tik'].fillna(\"None\", inplace=True)\n",
    "df_merged_all['pct_perempuan_managerial'].fillna(df_merged_all['pct_perempuan_managerial'].median(),inplace=True)\n",
    "df_merged_all['persen_rumah_dgn_fasilitas_cuci_tangan_sabun'].fillna(\"None\", inplace=True)\n",
    "\n",
    "df_merged_all['persen_rumah_menyewa'].fillna(df_merged_all['persen_rumah_menyewa'].median(),inplace=True)\n",
    "df_merged_all['persen_unmet_need_pelayanan_kesehatan'].fillna(df_merged_all['persen_unmet_need_pelayanan_kesehatan'].median(),inplace=True)\n",
    "df_merged_all['proporsi_hidup_dibawah_50_persen_median_pendapatan'].fillna(df_merged_all['proporsi_hidup_dibawah_50_persen_median_pendapatan'].median(),inplace=True)\n",
    "\n",
    "df_merged_all['proporsi_kerja_informal_nonpertanian'].fillna(df_merged_all['proporsi_kerja_informal_nonpertanian'].median(),inplace=True)\n",
    "df_merged_all['pct_perempuan_nikah'].fillna(df_merged_all['pct_perempuan_nikah'].median(),inplace=True)\n",
    "df_merged_all['proporsi_rt_akses_layanan_dasar'].fillna(df_merged_all['proporsi_rt_akses_layanan_dasar'].median(),inplace=True)\n"
   ]
  },
  {
   "cell_type": "code",
   "execution_count": 11,
   "id": "57e33588",
   "metadata": {},
   "outputs": [
    {
     "data": {
      "text/plain": [
       "prov                                                  442\n",
       "tahun                                                 442\n",
       "kategori_pmi                                          442\n",
       "jumlah_naik_haji                                      442\n",
       "kepadatan_penduduk                                    442\n",
       "pct_tdk_cukup_pangan                                  442\n",
       "melek_huruf_diatas15                                  442\n",
       "persen_anak_dengan_akte_lahir                         442\n",
       "persen_asupan_kalori_bawah_1400                       442\n",
       "persen_penduduk_trampil_tik                           442\n",
       "pct_perempuan_managerial                              442\n",
       "persen_rumah_dgn_fasilitas_cuci_tangan_sabun          442\n",
       "persen_rumah_menyewa                                  442\n",
       "persen_unmet_need_pelayanan_kesehatan                 442\n",
       "proporsi_hidup_dibawah_50_persen_median_pendapatan    442\n",
       "proporsi_kerja_informal_nonpertanian                  442\n",
       "pct_perempuan_nikah                                   442\n",
       "proporsi_rt_akses_layanan_dasar                       442\n",
       "dtype: int64"
      ]
     },
     "execution_count": 11,
     "metadata": {},
     "output_type": "execute_result"
    }
   ],
   "source": [
    "# menampilkan jumlah isi data per kolom atribut yang ada di df_merged_all setelah dilakukan pengisian dengan nilai median\n",
    "df_merged_all.count()"
   ]
  },
  {
   "cell_type": "markdown",
   "id": "fc683635",
   "metadata": {},
   "source": [
    "## Exploratory Data Analysis"
   ]
  },
  {
   "cell_type": "markdown",
   "id": "fdf1e3fe",
   "metadata": {},
   "source": [
    "#### Grafik Jumlah kategori PMI dari urutan jumlah terbanyak-tersedikit"
   ]
  },
  {
   "cell_type": "code",
   "execution_count": 12,
   "id": "138288ae",
   "metadata": {},
   "outputs": [
    {
     "data": {
      "text/plain": [
       "Text(0.5, 1.0, 'Jumlah tiap kategori PMI')"
      ]
     },
     "execution_count": 12,
     "metadata": {},
     "output_type": "execute_result"
    },
    {
     "data": {
      "image/png": "[encoded data removed]",
      "text/plain": [
       "<Figure size 432x288 with 1 Axes>"
      ]
     },
     "metadata": {
      "needs_background": "light"
     },
     "output_type": "display_data"
    }
   ],
   "source": [
    "sns.countplot(x = \"kategori_pmi\", data = df_merged_all).set_title('Jumlah tiap kategori PMI')"
   ]
  },
  {
   "cell_type": "markdown",
   "id": "9fef0a46",
   "metadata": {},
   "source": [
    "Berdasarkan plot di atas, jumlah kategori PMI terbanyak (yaitu berjumlah 250) berada pada kategori SEDANG dengan range 60 < pmi < 70 : sedang. Kemudian yang kedua ialah range"
   ]
  },
  {
   "cell_type": "code",
   "execution_count": 30,
   "id": "49684b4d",
   "metadata": {},
   "outputs": [
    {
     "data": {
      "text/plain": [
       "<AxesSubplot:xlabel='jumlah_naik_haji'>"
      ]
     },
     "execution_count": 30,
     "metadata": {},
     "output_type": "execute_result"
    },
    {
     "data": {
      "image/png": "[encoded data removed]",
      "text/plain": [
       "<Figure size 432x288 with 1 Axes>"
      ]
     },
     "metadata": {
      "needs_background": "light"
     },
     "output_type": "display_data"
    }
   ],
   "source": [
    "sns.boxplot(x=\"jumlah_naik_haji\", data=df_merged_all)"
   ]
  },
  {
   "cell_type": "markdown",
   "id": "ad5649ee",
   "metadata": {},
   "source": [
    "## Persiapan Dataset"
   ]
  },
  {
   "cell_type": "code",
   "execution_count": 15,
   "id": "59fb8683",
   "metadata": {},
   "outputs": [
    {
     "data": {
      "text/html": [
       "<div>\n",
       "<style scoped>\n",
       "    .dataframe tbody tr th:only-of-type {\n",
       "        vertical-align: middle;\n",
       "    }\n",
       "\n",
       "    .dataframe tbody tr th {\n",
       "        vertical-align: top;\n",
       "    }\n",
       "\n",
       "    .dataframe thead th {\n",
       "        text-align: right;\n",
       "    }\n",
       "</style>\n",
       "<table border=\"1\" class=\"dataframe\">\n",
       "  <thead>\n",
       "    <tr style=\"text-align: right;\">\n",
       "      <th></th>\n",
       "      <th>prov</th>\n",
       "      <th>tahun</th>\n",
       "      <th>kategori_pmi</th>\n",
       "      <th>jumlah_naik_haji</th>\n",
       "      <th>pct_tdk_cukup_pangan</th>\n",
       "      <th>persen_anak_dengan_akte_lahir</th>\n",
       "      <th>persen_asupan_kalori_bawah_1400</th>\n",
       "      <th>pct_perempuan_managerial</th>\n",
       "      <th>persen_rumah_menyewa</th>\n",
       "      <th>persen_unmet_need_pelayanan_kesehatan</th>\n",
       "      <th>proporsi_hidup_dibawah_50_persen_median_pendapatan</th>\n",
       "      <th>proporsi_kerja_informal_nonpertanian</th>\n",
       "      <th>pct_perempuan_nikah</th>\n",
       "      <th>proporsi_rt_akses_layanan_dasar</th>\n",
       "    </tr>\n",
       "  </thead>\n",
       "  <tbody>\n",
       "    <tr>\n",
       "      <th>0</th>\n",
       "      <td>ACEH</td>\n",
       "      <td>2022</td>\n",
       "      <td>TINGGI</td>\n",
       "      <td>2242.0</td>\n",
       "      <td>8.915</td>\n",
       "      <td>86.48</td>\n",
       "      <td>10.02</td>\n",
       "      <td>27.135</td>\n",
       "      <td>6.97</td>\n",
       "      <td>4.685</td>\n",
       "      <td>10.075</td>\n",
       "      <td>45.925</td>\n",
       "      <td>29.755</td>\n",
       "      <td>79.11</td>\n",
       "    </tr>\n",
       "    <tr>\n",
       "      <th>1</th>\n",
       "      <td>SUMATERA UTARA</td>\n",
       "      <td>2022</td>\n",
       "      <td>TINGGI</td>\n",
       "      <td>2242.0</td>\n",
       "      <td>8.915</td>\n",
       "      <td>86.48</td>\n",
       "      <td>10.02</td>\n",
       "      <td>27.135</td>\n",
       "      <td>6.97</td>\n",
       "      <td>4.685</td>\n",
       "      <td>10.075</td>\n",
       "      <td>45.925</td>\n",
       "      <td>29.755</td>\n",
       "      <td>79.11</td>\n",
       "    </tr>\n",
       "    <tr>\n",
       "      <th>2</th>\n",
       "      <td>SUMATERA BARAT</td>\n",
       "      <td>2022</td>\n",
       "      <td>TINGGI</td>\n",
       "      <td>2242.0</td>\n",
       "      <td>8.915</td>\n",
       "      <td>86.48</td>\n",
       "      <td>10.02</td>\n",
       "      <td>27.135</td>\n",
       "      <td>6.97</td>\n",
       "      <td>4.685</td>\n",
       "      <td>10.075</td>\n",
       "      <td>45.925</td>\n",
       "      <td>29.755</td>\n",
       "      <td>79.11</td>\n",
       "    </tr>\n",
       "    <tr>\n",
       "      <th>3</th>\n",
       "      <td>RIAU</td>\n",
       "      <td>2022</td>\n",
       "      <td>TINGGI</td>\n",
       "      <td>2242.0</td>\n",
       "      <td>8.915</td>\n",
       "      <td>86.48</td>\n",
       "      <td>10.02</td>\n",
       "      <td>27.135</td>\n",
       "      <td>6.97</td>\n",
       "      <td>4.685</td>\n",
       "      <td>10.075</td>\n",
       "      <td>45.925</td>\n",
       "      <td>29.755</td>\n",
       "      <td>79.11</td>\n",
       "    </tr>\n",
       "    <tr>\n",
       "      <th>4</th>\n",
       "      <td>JAMBI</td>\n",
       "      <td>2022</td>\n",
       "      <td>TINGGI</td>\n",
       "      <td>2242.0</td>\n",
       "      <td>8.915</td>\n",
       "      <td>86.48</td>\n",
       "      <td>10.02</td>\n",
       "      <td>27.135</td>\n",
       "      <td>6.97</td>\n",
       "      <td>4.685</td>\n",
       "      <td>10.075</td>\n",
       "      <td>45.925</td>\n",
       "      <td>29.755</td>\n",
       "      <td>79.11</td>\n",
       "    </tr>\n",
       "  </tbody>\n",
       "</table>\n",
       "</div>"
      ],
      "text/plain": [
       "             prov  tahun kategori_pmi  jumlah_naik_haji  pct_tdk_cukup_pangan  \\\n",
       "0            ACEH   2022       TINGGI            2242.0                 8.915   \n",
       "1  SUMATERA UTARA   2022       TINGGI            2242.0                 8.915   \n",
       "2  SUMATERA BARAT   2022       TINGGI            2242.0                 8.915   \n",
       "3            RIAU   2022       TINGGI            2242.0                 8.915   \n",
       "4           JAMBI   2022       TINGGI            2242.0                 8.915   \n",
       "\n",
       "   persen_anak_dengan_akte_lahir  persen_asupan_kalori_bawah_1400  \\\n",
       "0                          86.48                            10.02   \n",
       "1                          86.48                            10.02   \n",
       "2                          86.48                            10.02   \n",
       "3                          86.48                            10.02   \n",
       "4                          86.48                            10.02   \n",
       "\n",
       "   pct_perempuan_managerial  persen_rumah_menyewa  \\\n",
       "0                    27.135                  6.97   \n",
       "1                    27.135                  6.97   \n",
       "2                    27.135                  6.97   \n",
       "3                    27.135                  6.97   \n",
       "4                    27.135                  6.97   \n",
       "\n",
       "   persen_unmet_need_pelayanan_kesehatan  \\\n",
       "0                                  4.685   \n",
       "1                                  4.685   \n",
       "2                                  4.685   \n",
       "3                                  4.685   \n",
       "4                                  4.685   \n",
       "\n",
       "   proporsi_hidup_dibawah_50_persen_median_pendapatan  \\\n",
       "0                                             10.075    \n",
       "1                                             10.075    \n",
       "2                                             10.075    \n",
       "3                                             10.075    \n",
       "4                                             10.075    \n",
       "\n",
       "   proporsi_kerja_informal_nonpertanian  pct_perempuan_nikah  \\\n",
       "0                                45.925               29.755   \n",
       "1                                45.925               29.755   \n",
       "2                                45.925               29.755   \n",
       "3                                45.925               29.755   \n",
       "4                                45.925               29.755   \n",
       "\n",
       "   proporsi_rt_akses_layanan_dasar  \n",
       "0                            79.11  \n",
       "1                            79.11  \n",
       "2                            79.11  \n",
       "3                            79.11  \n",
       "4                            79.11  "
      ]
     },
     "execution_count": 15,
     "metadata": {},
     "output_type": "execute_result"
    }
   ],
   "source": [
    "# Menghapus kolom yang terdapat tipe data string, agar dapat dibuat modelnya dengan naive bayes\n",
    "df_merged_all = df_merged_all.drop(columns=['kepadatan_penduduk','melek_huruf_diatas15',\n",
    "                                            'persen_penduduk_trampil_tik','persen_rumah_dgn_fasilitas_cuci_tangan_sabun'])\n",
    "df_merged_all.head()"
   ]
  },
  {
   "cell_type": "code",
   "execution_count": 17,
   "id": "8638aba1",
   "metadata": {},
   "outputs": [],
   "source": [
    "# import library\n",
    "from sklearn import preprocessing\n",
    "from sklearn.model_selection import train_test_split"
   ]
  },
  {
   "cell_type": "code",
   "execution_count": 18,
   "id": "6b90abb2",
   "metadata": {},
   "outputs": [],
   "source": [
    "# Y = (df.kategori_pmi) # Y = nama variabel,"
   ]
  },
  {
   "cell_type": "markdown",
   "id": "de1e05a1",
   "metadata": {},
   "source": [
    "# Pembuatan Model"
   ]
  },
  {
   "cell_type": "code",
   "execution_count": null,
   "id": "f7ad855f",
   "metadata": {},
   "outputs": [],
   "source": []
  }
 ],
 "metadata": {
  "kernelspec": {
   "display_name": "Python 3 (ipykernel)",
   "language": "python",
   "name": "python3"
  },
  "language_info": {
   "codemirror_mode": {
    "name": "ipython",
    "version": 3
   },
   "file_extension": ".py",
   "mimetype": "text/x-python",
   "name": "python",
   "nbconvert_exporter": "python",
   "pygments_lexer": "ipython3",
   "version": "3.9.12"
  }
 },
 "nbformat": 4,
 "nbformat_minor": 5
}
